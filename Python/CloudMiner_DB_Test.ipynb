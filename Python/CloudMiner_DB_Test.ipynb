{
 "cells": [
  {
   "cell_type": "code",
   "execution_count": 9,
   "id": "4bc08a20",
   "metadata": {},
   "outputs": [
    {
     "name": "stdout",
     "output_type": "stream",
     "text": [
      "SQL Error: Can't connect to MySQL server on 'cloudminorsqlsverdb.database.windows.net:3306' (10060)\n",
      "\n",
      "Connection terminated."
     ]
    }
   ],
   "source": [
    "\"\"\"\n",
    "This simple example demonstrates connecting to a MySQL database and executing a sample query.\n",
    "\"\"\"\n",
    "\n",
    "from __future__ import print_function\n",
    "import mysql.connector\n",
    "import sys\n",
    "\n",
    "SERVER   = \"cloudminorsqlsverdb.database.windows.net\"        # db server to connect to\n",
    "USERNAME = \"readonlylogin\"                            # user to connect as\n",
    "PASSWORD = \"@z$q!123!\"                            # user's password\n",
    "DATABASE = \"dbprojectsqlsvr\"                              # db to user\n",
    "PORT =  3306                                                  # Specify the desired port number here\n",
    "QUERY    = \"SELECT TOP (1000) * FROM [dbo].[init_SptfyWWDSongRanking];\"       # query statement\n",
    "\n",
    "if __name__ == \"__main__\":\n",
    "   try:\n",
    "      con = mysql.connector.connect(\n",
    "          host=SERVER, user=USERNAME, password=PASSWORD, database=DATABASE\n",
    "      )\n",
    "      print(\"Connection established.\")\n",
    "\n",
    "      cursor = con.cursor()\n",
    "      cursor.execute(QUERY)\n",
    "\n",
    "      print(\"Query executed: '{0}'\\n\\nResults:\".format(QUERY))\n",
    "      print(\"\".join([\"{:<12}\".format(col) for col in cursor.column_names]))\n",
    "      print(\"--------------------------------------------\")\n",
    "\n",
    "      for row in cursor:\n",
    "         print(\"\".join([\"{:<12}\".format(col) for col in row]))\n",
    "\n",
    "   except mysql.connector.Error as e:\n",
    "      print(\"SQL Error: {0}\".format(e.msg))\n",
    "   except:\n",
    "      print(\"Unexpected error: {0}\".format(sys.exc_info()[0]))\n",
    "\n",
    "   finally:\n",
    "      if 'cursor' in locals():\n",
    "         cursor.close()\n",
    "      if 'con' in locals():\n",
    "         con.close()\n",
    "\n",
    "   print(\"\\nConnection terminated.\", end='')\n"
   ]
  },
  {
   "cell_type": "code",
   "execution_count": null,
   "id": "19b20f98",
   "metadata": {},
   "outputs": [],
   "source": []
  }
 ],
 "metadata": {
  "kernelspec": {
   "display_name": "Python 3 (ipykernel)",
   "language": "python",
   "name": "python3"
  },
  "language_info": {
   "codemirror_mode": {
    "name": "ipython",
    "version": 3
   },
   "file_extension": ".py",
   "mimetype": "text/x-python",
   "name": "python",
   "nbconvert_exporter": "python",
   "pygments_lexer": "ipython3",
   "version": "3.9.13"
  }
 },
 "nbformat": 4,
 "nbformat_minor": 5
}
