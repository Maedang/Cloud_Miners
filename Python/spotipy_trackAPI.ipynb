{
 "cells": [
  {
   "cell_type": "code",
   "execution_count": 5,
   "id": "76fd98d6",
   "metadata": {},
   "outputs": [],
   "source": [
    "#Dependencies \n",
    "import spotipy\n",
    "from spotipy.oauth2 import SpotifyClientCredentials\n",
    "import pandas as pd \n",
    "# Import API key\n",
    "from config import Client_ID , Client_Secret\n",
    "#Authentication - without user\n",
    "client_credentials_manager = SpotifyClientCredentials(client_id=Client_ID, client_secret=Client_Secret)\n",
    "sp = spotipy.Spotify(client_credentials_manager = client_credentials_manager)"
   ]
  },
  {
   "cell_type": "code",
   "execution_count": 22,
   "id": "ad342a53",
   "metadata": {},
   "outputs": [
    {
     "ename": "TypeError",
     "evalue": "list indices must be integers or slices, not str",
     "output_type": "error",
     "traceback": [
      "\u001b[0;31m---------------------------------------------------------------------------\u001b[0m",
      "\u001b[0;31mTypeError\u001b[0m                                 Traceback (most recent call last)",
      "\u001b[0;32m/var/folders/zx/f3x1cdq12r37rn4kv9477k6m0000gn/T/ipykernel_36550/2634821248.py\u001b[0m in \u001b[0;36m<module>\u001b[0;34m\u001b[0m\n\u001b[1;32m      9\u001b[0m \u001b[0;34m\u001b[0m\u001b[0m\n\u001b[1;32m     10\u001b[0m \u001b[0;31m# Extract track information\u001b[0m\u001b[0;34m\u001b[0m\u001b[0;34m\u001b[0m\u001b[0m\n\u001b[0;32m---> 11\u001b[0;31m \u001b[0mtracks\u001b[0m \u001b[0;34m=\u001b[0m \u001b[0mresults\u001b[0m\u001b[0;34m[\u001b[0m\u001b[0;34m'tracks'\u001b[0m\u001b[0;34m]\u001b[0m\u001b[0;34m\u001b[0m\u001b[0;34m\u001b[0m\u001b[0m\n\u001b[0m\u001b[1;32m     12\u001b[0m \u001b[0;32mfor\u001b[0m \u001b[0mtrack\u001b[0m \u001b[0;32min\u001b[0m \u001b[0mtracks\u001b[0m\u001b[0;34m:\u001b[0m\u001b[0;34m\u001b[0m\u001b[0;34m\u001b[0m\u001b[0m\n\u001b[1;32m     13\u001b[0m     \u001b[0mtrack_name\u001b[0m \u001b[0;34m=\u001b[0m \u001b[0mtrack\u001b[0m\u001b[0;34m[\u001b[0m\u001b[0;34m'name'\u001b[0m\u001b[0;34m]\u001b[0m\u001b[0;34m\u001b[0m\u001b[0;34m\u001b[0m\u001b[0m\n",
      "\u001b[0;31mTypeError\u001b[0m: list indices must be integers or slices, not str"
     ]
    }
   ],
   "source": [
    "# Artist ID\n",
    "artist_id = '7wlFDEWiM5OoIAt8RSli8b'\n",
    "\n",
    "# Set the desired limit for song retrieval\n",
    "limit = 20\n",
    "\n",
    "# Retrieve top tracks of the artist with the specified limit\n",
    "results = sp.max_retries\n",
    "\n",
    "# Extract track information\n",
    "tracks = results['tracks']\n",
    "for track in tracks:\n",
    "    track_name = track['name']\n",
    "    track_id = track['id']\n",
    "    print(f\"Track Name: {track_name}\")\n",
    "    print(f\"Track ID: {track_id}\")\n",
    "    print(\"---\")"
   ]
  },
  {
   "cell_type": "code",
   "execution_count": 21,
   "id": "bca76b3f",
   "metadata": {},
   "outputs": [
    {
     "data": {
      "text/plain": [
       "{'album': {'album_type': 'album',\n",
       "  'artists': [{'external_urls': {'spotify': 'https://open.spotify.com/artist/4V8LLVI7PbaPR0K2TGSxFF'},\n",
       "    'href': 'https://api.spotify.com/v1/artists/4V8LLVI7PbaPR0K2TGSxFF',\n",
       "    'id': '4V8LLVI7PbaPR0K2TGSxFF',\n",
       "    'name': 'Tyler, The Creator',\n",
       "    'type': 'artist',\n",
       "    'uri': 'spotify:artist:4V8LLVI7PbaPR0K2TGSxFF'}],\n",
       "  'external_urls': {'spotify': 'https://open.spotify.com/album/45ba6QAtNrdv6Ke4MFOKk9'},\n",
       "  'href': 'https://api.spotify.com/v1/albums/45ba6QAtNrdv6Ke4MFOKk9',\n",
       "  'id': '45ba6QAtNrdv6Ke4MFOKk9',\n",
       "  'images': [{'height': 640,\n",
       "    'url': 'https://i.scdn.co/image/ab67616d0000b273696b4e67423edd64784bfbb4',\n",
       "    'width': 640},\n",
       "   {'height': 300,\n",
       "    'url': 'https://i.scdn.co/image/ab67616d00001e02696b4e67423edd64784bfbb4',\n",
       "    'width': 300},\n",
       "   {'height': 64,\n",
       "    'url': 'https://i.scdn.co/image/ab67616d00004851696b4e67423edd64784bfbb4',\n",
       "    'width': 64}],\n",
       "  'is_playable': True,\n",
       "  'name': 'CALL ME IF YOU GET LOST',\n",
       "  'release_date': '2021-06-25',\n",
       "  'release_date_precision': 'day',\n",
       "  'total_tracks': 16,\n",
       "  'type': 'album',\n",
       "  'uri': 'spotify:album:45ba6QAtNrdv6Ke4MFOKk9'},\n",
       " 'artists': [{'external_urls': {'spotify': 'https://open.spotify.com/artist/4V8LLVI7PbaPR0K2TGSxFF'},\n",
       "   'href': 'https://api.spotify.com/v1/artists/4V8LLVI7PbaPR0K2TGSxFF',\n",
       "   'id': '4V8LLVI7PbaPR0K2TGSxFF',\n",
       "   'name': 'Tyler, The Creator',\n",
       "   'type': 'artist',\n",
       "   'uri': 'spotify:artist:4V8LLVI7PbaPR0K2TGSxFF'},\n",
       "  {'external_urls': {'spotify': 'https://open.spotify.com/artist/7wlFDEWiM5OoIAt8RSli8b'},\n",
       "   'href': 'https://api.spotify.com/v1/artists/7wlFDEWiM5OoIAt8RSli8b',\n",
       "   'id': '7wlFDEWiM5OoIAt8RSli8b',\n",
       "   'name': 'YoungBoy Never Broke Again',\n",
       "   'type': 'artist',\n",
       "   'uri': 'spotify:artist:7wlFDEWiM5OoIAt8RSli8b'},\n",
       "  {'external_urls': {'spotify': 'https://open.spotify.com/artist/7c0XG5cIJTrrAgEC3ULPiq'},\n",
       "   'href': 'https://api.spotify.com/v1/artists/7c0XG5cIJTrrAgEC3ULPiq',\n",
       "   'id': '7c0XG5cIJTrrAgEC3ULPiq',\n",
       "   'name': 'Ty Dolla $ign',\n",
       "   'type': 'artist',\n",
       "   'uri': 'spotify:artist:7c0XG5cIJTrrAgEC3ULPiq'}],\n",
       " 'disc_number': 1,\n",
       " 'duration_ms': 121572,\n",
       " 'explicit': True,\n",
       " 'external_ids': {'isrc': 'USQX92102132'},\n",
       " 'external_urls': {'spotify': 'https://open.spotify.com/track/5B0kgjHULYJhAQkK5XsMoC'},\n",
       " 'href': 'https://api.spotify.com/v1/tracks/5B0kgjHULYJhAQkK5XsMoC',\n",
       " 'id': '5B0kgjHULYJhAQkK5XsMoC',\n",
       " 'is_local': False,\n",
       " 'is_playable': True,\n",
       " 'name': 'WUSYANAME (feat. Youngboy Never Broke Again & Ty Dolla $ign)',\n",
       " 'popularity': 78,\n",
       " 'preview_url': 'https://p.scdn.co/mp3-preview/f285d575307ee81e5a44825bd6cd5e65398bb085?cid=333b1355d6044b42abcf1f7d65b71f4b',\n",
       " 'track_number': 4,\n",
       " 'type': 'track',\n",
       " 'uri': 'spotify:track:5B0kgjHULYJhAQkK5XsMoC'}"
      ]
     },
     "execution_count": 21,
     "metadata": {},
     "output_type": "execute_result"
    }
   ],
   "source": [
    "tracks[0]\n"
   ]
  },
  {
   "cell_type": "code",
   "execution_count": 23,
   "id": "a3d8edf3",
   "metadata": {},
   "outputs": [],
   "source": [
    "results = sp.country_codes"
   ]
  },
  {
   "cell_type": "code",
   "execution_count": 29,
   "id": "22e0528e",
   "metadata": {},
   "outputs": [
    {
     "ename": "TypeError",
     "evalue": "'method' object is not subscriptable",
     "output_type": "error",
     "traceback": [
      "\u001b[0;31m---------------------------------------------------------------------------\u001b[0m",
      "\u001b[0;31mTypeError\u001b[0m                                 Traceback (most recent call last)",
      "\u001b[0;32m/var/folders/zx/f3x1cdq12r37rn4kv9477k6m0000gn/T/ipykernel_36550/1460468783.py\u001b[0m in \u001b[0;36m<module>\u001b[0;34m\u001b[0m\n\u001b[1;32m      1\u001b[0m \u001b[0mresults\u001b[0m \u001b[0;34m=\u001b[0m \u001b[0msp\u001b[0m\u001b[0;34m.\u001b[0m\u001b[0mrecommendations\u001b[0m\u001b[0;34m\u001b[0m\u001b[0;34m\u001b[0m\u001b[0m\n\u001b[0;32m----> 2\u001b[0;31m \u001b[0mresults\u001b[0m\u001b[0;34m[\u001b[0m\u001b[0;34m'artist'\u001b[0m\u001b[0;34m]\u001b[0m\u001b[0;34m\u001b[0m\u001b[0;34m\u001b[0m\u001b[0m\n\u001b[0m",
      "\u001b[0;31mTypeError\u001b[0m: 'method' object is not subscriptable"
     ]
    }
   ],
   "source": [
    "results = sp.recommendations\n",
    "results['artist']"
   ]
  },
  {
   "cell_type": "code",
   "execution_count": null,
   "id": "e6a95481",
   "metadata": {},
   "outputs": [],
   "source": []
  }
 ],
 "metadata": {
  "kernelspec": {
   "display_name": "Python 3 (ipykernel)",
   "language": "python",
   "name": "python3"
  },
  "language_info": {
   "codemirror_mode": {
    "name": "ipython",
    "version": 3
   },
   "file_extension": ".py",
   "mimetype": "text/x-python",
   "name": "python",
   "nbconvert_exporter": "python",
   "pygments_lexer": "ipython3",
   "version": "3.9.13"
  }
 },
 "nbformat": 4,
 "nbformat_minor": 5
}
